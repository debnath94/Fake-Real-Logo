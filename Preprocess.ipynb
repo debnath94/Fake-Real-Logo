{
 "cells": [
  {
   "cell_type": "code",
   "execution_count": 11,
   "id": "bd0c58a0",
   "metadata": {},
   "outputs": [],
   "source": [
    "import os\n",
    "import cv2\n",
    "import pandas as pd\n",
    "from PIL import Image"
   ]
  },
  {
   "cell_type": "code",
   "execution_count": 12,
   "id": "f3452e18",
   "metadata": {},
   "outputs": [],
   "source": [
    "logo_folder = \"E:\\LiveProject\\Deep_Learning\\logo-data-scraping-processing-main\\logo-data-scraping-processing-main\\logos\"\n",
    "output = \"E:\\LiveProject\\Deep_Learning\\logo-data-scraping-processing-main\\logo-data-scraping-processing-main\\output\""
   ]
  },
  {
   "cell_type": "code",
   "execution_count": 13,
   "id": "29fbb2b6",
   "metadata": {},
   "outputs": [],
   "source": [
    "target_size = (70, 70) "
   ]
  },
  {
   "cell_type": "code",
   "execution_count": 14,
   "id": "92559408",
   "metadata": {},
   "outputs": [],
   "source": [
    "data = []\n",
    "for root, dirs, files in os.walk(logo_folder):\n",
    "    for filename in files:\n",
    "        if filename.endswith('.jpg') or filename.endswith('.png'):  # Adjust the file extensions based on your logo image format\n",
    "            logo_path = os.path.join(root, filename)\n",
    "            brand_name = root.replace('logos\\\\', '')\n",
    "            image = Image.open(logo_path).convert('RGB')\n",
    "            # Resize the image\n",
    "            resized_image = image.resize(target_size)\n",
    "\n",
    "            brand_folder = os.path.join(output, brand_name)\n",
    "            if not os.path.exists(os.path.join(output, brand_name)):\n",
    "                os.makedirs(os.path.join(output, brand_name))\n",
    "\n",
    "            # Save the resized image to the output folder\n",
    "            output_path = os.path.join(brand_folder, filename)\n",
    "            resized_image.save(output_path)\n",
    "            \n",
    "            data.append({'Filename': os.path.join(brand_folder, filename), 'Brand Name': brand_name, 'Label': 'Genuine'})"
   ]
  },
  {
   "cell_type": "code",
   "execution_count": 15,
   "id": "424e6a32",
   "metadata": {},
   "outputs": [
    {
     "name": "stdout",
     "output_type": "stream",
     "text": [
      "Done\n"
     ]
    }
   ],
   "source": [
    "df = pd.DataFrame(data)\n",
    "df.to_csv('file_map.csv')\n",
    "\n",
    "print(\"Done\")"
   ]
  },
  {
   "cell_type": "code",
   "execution_count": null,
   "id": "c2a91160",
   "metadata": {},
   "outputs": [],
   "source": []
  }
 ],
 "metadata": {
  "kernelspec": {
   "display_name": "Python 3 (ipykernel)",
   "language": "python",
   "name": "python3"
  },
  "language_info": {
   "codemirror_mode": {
    "name": "ipython",
    "version": 3
   },
   "file_extension": ".py",
   "mimetype": "text/x-python",
   "name": "python",
   "nbconvert_exporter": "python",
   "pygments_lexer": "ipython3",
   "version": "3.10.9"
  }
 },
 "nbformat": 4,
 "nbformat_minor": 5
}

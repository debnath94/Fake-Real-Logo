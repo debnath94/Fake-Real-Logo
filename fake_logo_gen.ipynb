{
 "cells": [
  {
   "cell_type": "code",
   "execution_count": 1,
   "id": "61885701",
   "metadata": {},
   "outputs": [],
   "source": [
    "import os\n",
    "import cv2\n",
    "import pandas as pd"
   ]
  },
  {
   "cell_type": "code",
   "execution_count": 2,
   "id": "45016ea9",
   "metadata": {},
   "outputs": [],
   "source": [
    "logo_folder = \"E:\\LiveProject\\Deep_Learning\\logo-data-scraping-processing-main\\logo-data-scraping-processing-main\\output\"\n",
    "output = \"E:\\LiveProject\\Deep_Learning\\logo-data-scraping-processing-main\\logo-data-scraping-processing-main\\genLogoOutput\""
   ]
  },
  {
   "cell_type": "code",
   "execution_count": 3,
   "id": "77a36ced",
   "metadata": {},
   "outputs": [],
   "source": [
    "scale_factor = 0.8\n",
    "rotation_angle = 30"
   ]
  },
  {
   "cell_type": "code",
   "execution_count": 4,
   "id": "d2dfd4e4",
   "metadata": {},
   "outputs": [],
   "source": [
    "data = []\n",
    "for root, dirs, files in os.walk(logo_folder):\n",
    "    for filename in files:\n",
    "        if filename.endswith('.jpg') or filename.endswith('.png'):  # Adjust the file extensions based on your logo image format\n",
    "            logo_path = os.path.join(root, filename)\n",
    "            brand_name = root.replace('output\\\\', '')\n",
    "\n",
    "            brand_folder = os.path.join(output, brand_name)\n",
    "            if not os.path.exists(os.path.join(output, brand_name)):\n",
    "                os.makedirs(os.path.join(output, brand_name))\n",
    "            \n",
    "            # Load the logo image\n",
    "            image = cv2.imread(logo_path)\n",
    "            \n",
    "            # Apply rotation transformation\n",
    "            rows, cols = image.shape[:2]\n",
    "            rotation_matrix = cv2.getRotationMatrix2D((cols/2, rows/2), rotation_angle, 1)\n",
    "            rotated_image = cv2.warpAffine(image, rotation_matrix, (cols, rows))\n",
    "            \n",
    "            # Save the transformed image\n",
    "            cv2.imwrite(os.path.join(brand_folder, filename), rotated_image)\n",
    "            \n",
    "            data.append({'Filename': os.path.join(brand_folder, filename), 'Brand Name': brand_name, 'Label': 'Fake'})"
   ]
  },
  {
   "cell_type": "code",
   "execution_count": 5,
   "id": "d72888db",
   "metadata": {},
   "outputs": [],
   "source": [
    "for root, dirs, files in os.walk(logo_folder):\n",
    "    for filename in files:\n",
    "        if filename.endswith('.jpg') or filename.endswith('.png'):  # Adjust the file extensions based on your logo image format\n",
    "            logo_path = os.path.join(root, filename)\n",
    "            brand_name = root.replace('output\\\\', '')\n",
    "\n",
    "            brand_folder = os.path.join(output, brand_name)\n",
    "            if not os.path.exists(os.path.join(output, brand_name)):\n",
    "                os.makedirs(os.path.join(output, brand_name))\n",
    "            \n",
    "            # Load the logo image\n",
    "            image = cv2.imread(logo_path)\n",
    "            \n",
    "            # Apply scaling transformation\n",
    "            scaled_image = cv2.resize(image, None, fx=scale_factor, fy=scale_factor)\n",
    "            \n",
    "            # Save the transformed images\n",
    "            cv2.imwrite(os.path.join(brand_folder, 'scal_'+filename), scaled_image)\n",
    "            \n",
    "            data.append({'Filename': os.path.join(brand_folder, 'scal_'+filename), 'Brand Name': brand_name, 'Label': 'Fake'})"
   ]
  },
  {
   "cell_type": "code",
   "execution_count": 6,
   "id": "530c40c7",
   "metadata": {},
   "outputs": [
    {
     "name": "stdout",
     "output_type": "stream",
     "text": [
      "Done\n"
     ]
    }
   ],
   "source": [
    "df = pd.read_csv('file_map.csv')\n",
    "n_df = pd.concat([df, pd.DataFrame(data)], axis=0)\n",
    "n_df.to_csv('file_mapping.csv', index=False)\n",
    "\n",
    "print(\"Done\")"
   ]
  },
  {
   "cell_type": "code",
   "execution_count": null,
   "id": "2fa3382d",
   "metadata": {},
   "outputs": [],
   "source": []
  }
 ],
 "metadata": {
  "kernelspec": {
   "display_name": "Python 3 (ipykernel)",
   "language": "python",
   "name": "python3"
  },
  "language_info": {
   "codemirror_mode": {
    "name": "ipython",
    "version": 3
   },
   "file_extension": ".py",
   "mimetype": "text/x-python",
   "name": "python",
   "nbconvert_exporter": "python",
   "pygments_lexer": "ipython3",
   "version": "3.10.9"
  }
 },
 "nbformat": 4,
 "nbformat_minor": 5
}
